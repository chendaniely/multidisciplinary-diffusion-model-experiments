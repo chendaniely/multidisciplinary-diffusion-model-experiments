{
 "cells": [
  {
   "cell_type": "code",
   "execution_count": null,
   "metadata": {
    "collapsed": true
   },
   "outputs": [],
   "source": [
    "import networkx as nx\n",
    "import pandas as pd\n",
    "from matplotlib import pyplot as plt\n",
    "import glob\n",
    "\n",
    "%matplotlib inline"
   ]
  },
  {
   "cell_type": "code",
   "execution_count": null,
   "metadata": {
    "collapsed": true
   },
   "outputs": [],
   "source": [
    "def get_data(filename):\n",
    "    return pd.read_csv(filename)"
   ]
  },
  {
   "cell_type": "code",
   "execution_count": null,
   "metadata": {
    "collapsed": true
   },
   "outputs": [],
   "source": [
    "def clean_dataframe(dataframe):\n",
    "    dataframe['agent_name'] = 'A' + dataframe['V2'].astype(str)\n",
    "    dataframe['diff_avg'] = dataframe['avg_pos'] - dataframe['avg_neg']\n",
    "    return dataframe"
   ]
  },
  {
   "cell_type": "code",
   "execution_count": null,
   "metadata": {
    "collapsed": true
   },
   "outputs": [],
   "source": [
    "def get_val_map(dataframe):\n",
    "    \"\"\"Get dictionary of Agent ID and difference of means\"\"\"\n",
    "    return dict(zip(dataframe.agent_name, dataframe.diff_avg))"
   ]
  },
  {
   "cell_type": "code",
   "execution_count": null,
   "metadata": {
    "collapsed": true
   },
   "outputs": [],
   "source": [
    "def create_graph_from_edge_list(filename):\n",
    "    return nx.read_edgelist(filename)"
   ]
  },
  {
   "cell_type": "code",
   "execution_count": null,
   "metadata": {
    "collapsed": true
   },
   "outputs": [],
   "source": [
    "def get_values(G, val_map):\n",
    "    return [val_map.get(node) for node in G.nodes()]"
   ]
  },
  {
   "cell_type": "code",
   "execution_count": null,
   "metadata": {
    "collapsed": true
   },
   "outputs": [],
   "source": [
    "def plot_network(G):\n",
    "    nx.draw_networkx(G,\n",
    "                     cmap=plt.get_cmap('jet'),\n",
    "                     node_color=values,\n",
    "                     pos=nx.circular_layout(G))\n",
    "    plt.show()"
   ]
  },
  {
   "cell_type": "code",
   "execution_count": null,
   "metadata": {
    "collapsed": true
   },
   "outputs": [],
   "source": [
    "def get_time_from_filename(filename):\n",
    "    num = int(filename.split('/')[-1].replace('.csv', '').replace('t_', ''))\n",
    "    num_format_4 = '{0:04d}'.format(num)\n",
    "    return \"{}.png\".format(num_format_4)"
   ]
  },
  {
   "cell_type": "code",
   "execution_count": null,
   "metadata": {
    "collapsed": true
   },
   "outputs": [],
   "source": [
    "def plot_graph(filename, save=False):\n",
    "    data = get_data(filename)\n",
    "    data = clean_dataframe(data)\n",
    "\n",
    "    val_map = get_val_map(data)\n",
    "\n",
    "    G = create_graph_from_edge_list(edge_list_file)\n",
    "\n",
    "    values = get_values(G, val_map)\n",
    "    plt.figure(figsize=(11,11))\n",
    "    nx.draw_networkx(G,\n",
    "                     cmap=plt.get_cmap('bwr'),\n",
    "                     node_color=values,\n",
    "                     node_size=700,\n",
    "                     vmin=-1,vmax=1,\n",
    "                     width=0.5,\n",
    "                     pos=nx.circular_layout(G))\n",
    "    plt.axis('off')\n",
    "    print(filename)\n",
    "    if save is True:\n",
    "        plt.savefig(get_time_from_filename(filename))\n",
    "    # plt.show()\n",
    "    plt.close()\n",
    "    return None"
   ]
  },
  {
   "cell_type": "markdown",
   "metadata": {},
   "source": [
    "# Time series network plots"
   ]
  },
  {
   "cell_type": "code",
   "execution_count": null,
   "metadata": {
    "collapsed": false,
    "scrolled": false
   },
   "outputs": [],
   "source": [
    "base_dir = '../../results/simulations/02-lens_single_2015-04-07_21:25:50//'\n",
    "edge_list_file = base_dir + '/output/edge_list.gz'\n",
    "time_files = glob.glob(base_dir + '/output/t_*.csv')\n",
    "print(len(time_files))\n",
    "sorted(time_files)[2:52]"
   ]
  },
  {
   "cell_type": "code",
   "execution_count": null,
   "metadata": {
    "collapsed": false,
    "scrolled": true
   },
   "outputs": [],
   "source": [
    "for filename in sorted(time_files)[2:52]:\n",
    "    plot_graph(filename, True)"
   ]
  },
  {
   "cell_type": "code",
   "execution_count": null,
   "metadata": {
    "collapsed": false
   },
   "outputs": [],
   "source": [
    "# nx.degree_centrality(G)"
   ]
  },
  {
   "cell_type": "code",
   "execution_count": null,
   "metadata": {
    "collapsed": false
   },
   "outputs": [],
   "source": [
    "# nx.betweenness_centrality(G)"
   ]
  },
  {
   "cell_type": "code",
   "execution_count": null,
   "metadata": {
    "collapsed": false
   },
   "outputs": [],
   "source": [
    "# sorted(nx.betweenness_centrality(G), key=nx.betweenness_centrality(G).get)"
   ]
  },
  {
   "cell_type": "code",
   "execution_count": null,
   "metadata": {
    "collapsed": true
   },
   "outputs": [],
   "source": [
    "import matplotlib.pyplot as plt\n",
    "from matplotlib import cm\n",
    "from mpl_toolkits.mplot3d import axes3d\n",
    "import os, sys\n",
    "import numpy as np\n",
    "\n",
    "def make_gif(files,output,delay=100, repeat=True,**kwargs):\n",
    "    \"\"\"\n",
    "    Uses imageMagick to produce an animated .gif from a list of\n",
    "    picture files.\n",
    "    \"\"\"\n",
    "     \n",
    "    loop = -1 if repeat else 0\n",
    "    os.system('convert -delay %d -loop %d %s %s'\n",
    "              %(delay,loop,\" \".join(files),output))"
   ]
  },
  {
   "cell_type": "code",
   "execution_count": null,
   "metadata": {
    "collapsed": false
   },
   "outputs": [],
   "source": [
    "import glob\n",
    "\n",
    "files = sorted(glob.glob('*.png'))\n",
    "print(files)\n",
    "make_gif(files, 'network-0-50.gif', delay=50)"
   ]
  },
  {
   "cell_type": "code",
   "execution_count": null,
   "metadata": {
    "collapsed": true
   },
   "outputs": [],
   "source": [
    "def make_movie(files,output, fps=10,bitrate=1800,**kwargs):\n",
    "    \"\"\"\n",
    "    Uses mencoder, produces a .mp4/.ogv/... movie from a list of\n",
    "    picture files.\n",
    "    \"\"\"\n",
    "     \n",
    "    output_name, output_ext = os.path.splitext(output)\n",
    "    command = { '.mp4' : 'mencoder \"mf://%s\" -mf fps=%d -o %s.mp4 -ovc lavc\\\n",
    "                         -lavcopts vcodec=msmpeg4v2:vbitrate=%d'\n",
    "                         %(\",\".join(files),fps,output_name,bitrate)}\n",
    "                          \n",
    "    command['.ogv'] = command['.mp4'] + '; ffmpeg -i %s.mp4 -r %d %s'%(output_name,fps,output)\n",
    "     \n",
    "    print(command[output_ext])\n",
    "    output_ext = os.path.splitext(output)[1]\n",
    "    os.system(command[output_ext])"
   ]
  },
  {
   "cell_type": "code",
   "execution_count": null,
   "metadata": {
    "collapsed": false
   },
   "outputs": [],
   "source": [
    "import glob\n",
    "\n",
    "files = sorted(glob.glob('*.png'))\n",
    "print(files)"
   ]
  },
  {
   "cell_type": "code",
   "execution_count": null,
   "metadata": {
    "collapsed": false
   },
   "outputs": [],
   "source": [
    "# make_movie(files, 'network-0-50.mp4', delay=50)"
   ]
  },
  {
   "cell_type": "code",
   "execution_count": null,
   "metadata": {
    "collapsed": false
   },
   "outputs": [],
   "source": [
    "%%bash\n",
    "rm out.mp4\n",
    "ffmpeg -framerate 1/0.5 -i %04d.png -c:v libx264 -vf fps=25 -pix_fmt yuv420p out.mp4"
   ]
  }
 ],
 "metadata": {
  "kernelspec": {
   "display_name": "Python 3",
   "language": "python",
   "name": "python3"
  },
  "language_info": {
   "codemirror_mode": {
    "name": "ipython",
    "version": 3
   },
   "file_extension": ".py",
   "mimetype": "text/x-python",
   "name": "python",
   "nbconvert_exporter": "python",
   "pygments_lexer": "ipython3",
   "version": "3.4.3"
  }
 },
 "nbformat": 4,
 "nbformat_minor": 0
}
