{
 "cells": [
  {
   "cell_type": "code",
   "execution_count": 2,
   "metadata": {
    "collapsed": false
   },
   "outputs": [
    {
     "name": "stdout",
     "output_type": "stream",
     "text": [
      "['0000.png', '0001.png', '0002.png', '0003.png', '0004.png', '0005.png', '0006.png', '0007.png', '0008.png', '0009.png', '0010.png', '0011.png', '0012.png', '0013.png', '0014.png', '0015.png', '0016.png', '0017.png', '0018.png', '0019.png', '0020.png', '0021.png', '0022.png', '0023.png', '0024.png', '0025.png', '0026.png', '0027.png', '0028.png', '0029.png', '0030.png', '0031.png', '0032.png', '0033.png', '0034.png', '0035.png', '0036.png', '0037.png', '0038.png', '0039.png', '0040.png', '0041.png', '0042.png', '0043.png', '0044.png', '0045.png', '0046.png', '0047.png', '0048.png', '0049.png', '0050.png']\n"
     ]
    }
   ],
   "source": [
    "import os\n",
    "import glob\n",
    "\n",
    "def make_gif(files,output,delay=100, repeat=True,**kwargs):\n",
    "    \"\"\"\n",
    "    Uses imageMagick to produce an animated .gif from a list of\n",
    "    picture files.\n",
    "    \"\"\"\n",
    "     \n",
    "    loop = -1 if repeat else 0\n",
    "    os.system('convert -delay %d -loop %d %s %s'\n",
    "              %(delay,loop,\" \".join(files),output))\n",
    "\n",
    "\n",
    "\n",
    "# pattern for files to stitch\n",
    "# if you want to stitch a range of png files\n",
    "# put starting and ending values around the ':'\n",
    "# for example:\n",
    "# files = sorted(glob.glob('*.png'))[5:10]\n",
    "# will get files in index 5-9, inclusive on both ends\n",
    "files = sorted(glob.glob('*.png'))[:]\n",
    "print(files)\n",
    "\n",
    "make_gif(files, 'filename.gif', delay=50)"
   ]
  },
  {
   "cell_type": "code",
   "execution_count": null,
   "metadata": {
    "collapsed": true
   },
   "outputs": [],
   "source": []
  }
 ],
 "metadata": {
  "kernelspec": {
   "display_name": "Python 3",
   "language": "python",
   "name": "python3"
  },
  "language_info": {
   "codemirror_mode": {
    "name": "ipython",
    "version": 3
   },
   "file_extension": ".py",
   "mimetype": "text/x-python",
   "name": "python",
   "nbconvert_exporter": "python",
   "pygments_lexer": "ipython3",
   "version": "3.4.3"
  }
 },
 "nbformat": 4,
 "nbformat_minor": 0
}
