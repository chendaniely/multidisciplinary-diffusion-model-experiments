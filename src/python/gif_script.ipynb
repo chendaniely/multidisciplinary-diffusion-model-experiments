{
 "cells": [
  {
   "cell_type": "code",
   "execution_count": null,
   "metadata": {
    "collapsed": false
   },
   "outputs": [],
   "source": [
    "import os\n",
    "import glob\n",
    "\n",
    "def make_gif(files,output,delay=100, repeat=True,**kwargs):\n",
    "    \"\"\"\n",
    "    Uses imageMagick to produce an animated .gif from a list of\n",
    "    picture files.\n",
    "    \"\"\"\n",
    "     \n",
    "    loop = -1 if repeat else 0\n",
    "    os.system('convert -delay %d -loop %d %s %s'\n",
    "              %(delay,loop,\" \".join(files),output))\n",
    "\n",
    "\n",
    "\n",
    "# pattern for files to stitch\n",
    "# if you want to stitch a range of png files\n",
    "# put starting and ending values around the ':'\n",
    "# for example:\n",
    "# files = sorted(glob.glob('*.png'))[5:10]\n",
    "# will get files in index 5-9, inclusive on both ends\n",
    "files = sorted(glob.glob('*.png'))[:]\n",
    "print(files)\n",
    "\n",
    "make_gif(files, 'filename.gif', delay=50)"
   ]
  },
  {
   "cell_type": "code",
   "execution_count": null,
   "metadata": {
    "collapsed": true
   },
   "outputs": [],
   "source": []
  }
 ],
 "metadata": {
  "kernelspec": {
   "display_name": "Python 3",
   "language": "python",
   "name": "python3"
  },
  "language_info": {
   "codemirror_mode": {
    "name": "ipython",
    "version": 3
   },
   "file_extension": ".py",
   "mimetype": "text/x-python",
   "name": "python",
   "nbconvert_exporter": "python",
   "pygments_lexer": "ipython3",
   "version": "3.4.3"
  }
 },
 "nbformat": 4,
 "nbformat_minor": 0
}
