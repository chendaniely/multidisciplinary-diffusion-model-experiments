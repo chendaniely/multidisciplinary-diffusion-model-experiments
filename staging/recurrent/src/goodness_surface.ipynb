{
 "cells": [
  {
   "cell_type": "code",
   "execution_count": null,
   "metadata": {
    "collapsed": true
   },
   "outputs": [],
   "source": [
    "import pandas as pd\n",
    "import numpy as np\n",
    "import matplotlib.pyplot as plt\n",
    "\n",
    "from mpl_toolkits.mplot3d import axes3d\n",
    "import matplotlib.pyplot as plt\n",
    "from matplotlib import cm\n",
    "\n",
    "%matplotlib inline"
   ]
  },
  {
   "cell_type": "code",
   "execution_count": null,
   "metadata": {
    "collapsed": false
   },
   "outputs": [],
   "source": [
    "gdata = pd.read_csv('../results/goodness.csv')\n",
    "print(gdata.shape)\n",
    "gdata.head()"
   ]
  },
  {
   "cell_type": "code",
   "execution_count": null,
   "metadata": {
    "collapsed": false,
    "scrolled": false
   },
   "outputs": [],
   "source": [
    "fig = plt.figure()\n",
    "ax = fig.add_subplot(111, projection='3d')\n",
    "ax.scatter(np.array(gdata['ai']),\n",
    "                np.array(gdata['aj']),\n",
    "                np.array(gdata['goodness']))\n",
    "plt.show()"
   ]
  },
  {
   "cell_type": "code",
   "execution_count": null,
   "metadata": {
    "collapsed": false
   },
   "outputs": [],
   "source": [
    "fig = plt.figure()\n",
    "ax = fig.add_subplot(111, projection='3d')\n",
    "ax.scatter(np.array(gdata['ai']),\n",
    "                np.array(gdata['aj']),\n",
    "                np.array(gdata['goodness']))\n",
    "ax.view_init(45, 45)\n",
    "plt.show()"
   ]
  },
  {
   "cell_type": "code",
   "execution_count": null,
   "metadata": {
    "collapsed": false
   },
   "outputs": [],
   "source": [
    "np.array(gdata['ai']).reshape(21, 21)"
   ]
  },
  {
   "cell_type": "code",
   "execution_count": null,
   "metadata": {
    "collapsed": false
   },
   "outputs": [],
   "source": [
    "np.array(gdata['ai']).shape"
   ]
  },
  {
   "cell_type": "code",
   "execution_count": null,
   "metadata": {
    "collapsed": false
   },
   "outputs": [],
   "source": [
    "fig = plt.figure()\n",
    "ax = fig.gca(projection='3d')\n",
    "ax.plot_surface(np.array(gdata['ai']),\n",
    "                np.array(gdata['aj']),\n",
    "                np.array(gdata['goodness']), rstride=8, cstride=8, alpha=0.3)\n",
    "plt.show()"
   ]
  },
  {
   "cell_type": "code",
   "execution_count": null,
   "metadata": {
    "collapsed": false
   },
   "outputs": [],
   "source": [
    "np.array(gdata['goodness']).reshape(21, 21)"
   ]
  },
  {
   "cell_type": "code",
   "execution_count": null,
   "metadata": {
    "collapsed": false,
    "scrolled": true
   },
   "outputs": [],
   "source": [
    "a = np.array(gdata['ai']).reshape(21, 21)\n",
    "a"
   ]
  },
  {
   "cell_type": "code",
   "execution_count": null,
   "metadata": {
    "collapsed": false
   },
   "outputs": [],
   "source": [
    "b = np.array(gdata['aj']).reshape(21, 21)\n",
    "b"
   ]
  },
  {
   "cell_type": "code",
   "execution_count": null,
   "metadata": {
    "collapsed": false,
    "scrolled": true
   },
   "outputs": [],
   "source": [
    "c = np.array(gdata['goodness']).reshape(21, 21)\n",
    "c"
   ]
  },
  {
   "cell_type": "code",
   "execution_count": null,
   "metadata": {
    "collapsed": false
   },
   "outputs": [],
   "source": [
    "fig = plt.figure()\n",
    "ax = fig.gca(projection='3d')\n",
    "ax.plot_surface(a, b, c, rstride=1, cstride=1, alpha=0.3)\n",
    "ax.view_init(0, 90)\n",
    "plt.show()"
   ]
  },
  {
   "cell_type": "code",
   "execution_count": null,
   "metadata": {
    "collapsed": false
   },
   "outputs": [],
   "source": [
    "# %load http://matplotlib.org/mpl_examples/mplot3d/wire3d_demo.py\n",
    "from mpl_toolkits.mplot3d import axes3d\n",
    "import matplotlib.pyplot as plt\n",
    "import numpy as np\n",
    "\n",
    "fig = plt.figure()\n",
    "ax = fig.add_subplot(111, projection='3d')\n",
    "ax.plot_wireframe(a, b, c, rstride=1, cstride=1)\n",
    "ax.view_init(20, 140)\n",
    "plt.show()"
   ]
  },
  {
   "cell_type": "code",
   "execution_count": null,
   "metadata": {
    "collapsed": false,
    "scrolled": false
   },
   "outputs": [],
   "source": [
    "from mpl_toolkits.mplot3d import axes3d\n",
    "import matplotlib.pyplot as plt\n",
    "from matplotlib import cm\n",
    "\n",
    "fig = plt.figure()\n",
    "ax = fig.gca(projection='3d')\n",
    "ax.plot_surface(a, b, c, rstride=1, cstride=1, alpha=0.3)\n",
    "ax.view_init(45, 45)\n",
    "plt.show()"
   ]
  },
  {
   "cell_type": "code",
   "execution_count": null,
   "metadata": {
    "collapsed": false
   },
   "outputs": [],
   "source": [
    "from mpl_toolkits.mplot3d import axes3d\n",
    "import matplotlib.pyplot as plt\n",
    "from matplotlib import cm\n",
    "\n",
    "fig = plt.figure(figsize=(25,25))\n",
    "ax = fig.gca(projection='3d')\n",
    "\n",
    "ax.plot_surface(a, b, c, rstride=1, cstride=1, alpha=0.3)\n",
    "cset = ax.contourf(a, b, c, zdir='z', offset=-100, cmap=cm.coolwarm)\n",
    "cset = ax.contourf(a, b, c, zdir='x', offset=-40, cmap=cm.coolwarm)\n",
    "cset = ax.contourf(a, b, c, zdir='y', offset=40, cmap=cm.coolwarm)\n",
    "\n",
    "ax.view_init(20, 120)\n",
    "\n",
    "plt.show()"
   ]
  },
  {
   "cell_type": "code",
   "execution_count": null,
   "metadata": {
    "collapsed": false
   },
   "outputs": [],
   "source": [
    "import matplotlib.pyplot as plt\n",
    "from matplotlib import cm\n",
    "from mpl_toolkits.mplot3d import axes3d\n",
    "import os, sys\n",
    "import numpy as np\n",
    "\n",
    "\n",
    "##### TO CREATE A SERIES OF PICTURES\n",
    "\n",
    "def make_views(ax,angles,elevation=None, width=4, height = 3,\n",
    "               prefix='tmprot_',**kwargs):\n",
    "    \"\"\"\n",
    "    Makes jpeg pictures of the given 3d ax, with different angles.\n",
    "    Args:\n",
    "        ax (3D axis): te ax\n",
    "        angles (list): the list of angles (in degree) under which to\n",
    "                       take the picture.\n",
    "        width,height (float): size, in inches, of the output images.\n",
    "        prefix (str): prefix for the files created.\n",
    "\n",
    "    Returns: the list of files created (for later removal)\n",
    "    \"\"\"\n",
    "\n",
    "    files = []\n",
    "    ax.figure.set_size_inches(width,height)\n",
    "\n",
    "    for i,angle in enumerate(angles):\n",
    "\n",
    "        ax.view_init(elev = elevation, azim=angle)\n",
    "        fname = '%s%03d.jpeg'%(prefix,i)\n",
    "        ax.figure.savefig(fname)\n",
    "        files.append(fname)\n",
    "\n",
    "    return files\n",
    "\n",
    "\n",
    "\n",
    "##### TO TRANSFORM THE SERIES OF PICTURE INTO AN ANIMATION\n",
    "\n",
    "def make_movie(files,output, fps=10,bitrate=1800,**kwargs):\n",
    "    \"\"\"\n",
    "    Uses mencoder, produces a .mp4/.ogv/... movie from a list of\n",
    "    picture files.\n",
    "    \"\"\"\n",
    "\n",
    "    output_name, output_ext = os.path.splitext(output)\n",
    "    command = { '.mp4' : 'mencoder \"mf://%s\" -mf fps=%d -o %s.mp4 -ovc lavc\\\n",
    "                         -lavcopts vcodec=msmpeg4v2:vbitrate=%d'\n",
    "                %(\",\".join(files),fps,output_name,bitrate)}\n",
    "\n",
    "    command['.ogv'] = command['.mp4'] + '; ffmpeg -i %s.mp4 -r %d %s'%(output_name,fps,output)\n",
    "\n",
    "    print(command[output_ext])\n",
    "    output_ext = os.path.splitext(output)[1]\n",
    "    os.system(command[output_ext])\n",
    "\n",
    "\n",
    "def make_gif(files,output,delay=100, repeat=True,**kwargs):\n",
    "    \"\"\"\n",
    "    Uses imageMagick to produce an animated .gif from a list of\n",
    "    picture files.\n",
    "    \"\"\"\n",
    "\n",
    "    loop = -1 if repeat else 0\n",
    "    os.system('convert -delay %d -loop %d %s %s'\n",
    "              %(delay,loop,\" \".join(files),output))\n",
    "\n",
    "\n",
    "def make_strip(files,output,**kwargs):\n",
    "    \"\"\"\n",
    "    Uses imageMagick to produce a .jpeg strip from a list of\n",
    "    picture files.\n",
    "    \"\"\"\n",
    "\n",
    "    os.system('montage -tile 1x -geometry +0+0 %s %s'%(\" \".join(files),output))\n",
    "\n",
    "\n",
    "##### MAIN FUNCTION\n",
    "\n",
    "def rotanimate(ax, angles, output, **kwargs):\n",
    "    \"\"\"\n",
    "    Produces an animation (.mp4,.ogv,.gif,.jpeg,.png) from a 3D plot on\n",
    "    a 3D ax\n",
    "\n",
    "    Args:\n",
    "        ax (3D axis): the ax containing the plot of interest\n",
    "        angles (list): the list of angles (in degree) under which to\n",
    "                       show the plot.\n",
    "        output : name of the output file. The extension determines the\n",
    "                 kind of animation used.\n",
    "        **kwargs:\n",
    "            - width : in inches\n",
    "            - heigth: in inches\n",
    "            - framerate : frames per second\n",
    "            - delay : delay between frames in milliseconds\n",
    "            - repeat : True or False (.gif only)\n",
    "    \"\"\"\n",
    "\n",
    "    output_ext = os.path.splitext(output)[1]\n",
    "\n",
    "    files = make_views(ax,angles, **kwargs)\n",
    "\n",
    "    D = { '.mp4' : make_movie,\n",
    "          '.ogv' : make_movie,\n",
    "          '.gif': make_gif ,\n",
    "          '.jpeg': make_strip,\n",
    "          '.png':make_strip}\n",
    "\n",
    "    D[output_ext](files,output,**kwargs)\n",
    "\n",
    "    #for f in files:\n",
    "    #    os.remove(f)\n",
    "\n",
    "##### EXAMPLE\n",
    "\n",
    "if __name__ == '__main__':\n",
    "\n",
    "    fig = plt.figure()\n",
    "    ax = fig.add_subplot(111, projection='3d')\n",
    "    X, Y, Z = axes3d.get_test_data(0.05)\n",
    "    s = ax.plot_surface(X, Y, Z, cmap=cm.jet)\n",
    "    plt.axis('off') # remove axes for visual appeal\n",
    "\n",
    "    angles = np.linspace(0,360,21)[:-1] # Take 20 angles between 0 and 360\n",
    "\n",
    "    # create an animated gif (20ms between frames)\n",
    "    # rotanimate(ax, angles,'movie_sample.gif',delay=20)\n",
    "\n",
    "    # create a movie with 10 frames per seconds and 'quality' 2000\n",
    "    # rotanimate(ax, angles,'movie_sample.mp4',fps=10,bitrate=2000)\n",
    "\n",
    "    # create an ogv movie\n",
    "    # rotanimate(ax, angles, 'movie_sample.ogv',fps=10)"
   ]
  },
  {
   "cell_type": "code",
   "execution_count": null,
   "metadata": {
    "collapsed": false
   },
   "outputs": [],
   "source": [
    "#import numpy as np\n",
    "#angles = np.linspace(0,360,21)[:-1] # A list of 20 angles between 0 and 360\n",
    " \n",
    "# create an animated gif (20ms between frames)\n",
    "#rotanimate(ax, angles,'movie.gif',delay=20) \n",
    " \n",
    "# create a movie with 10 frames per seconds and 'quality' 2000\n",
    "#rotanimate(ax, angles,'movie.mp4',fps=10,bitrate=2000)\n",
    " \n",
    "# create an ogv movie\n",
    "#rotanimate(ax, angles, 'movie.ogv',fps=10) "
   ]
  },
  {
   "cell_type": "code",
   "execution_count": null,
   "metadata": {
    "collapsed": false,
    "scrolled": true
   },
   "outputs": [],
   "source": [
    "# %load http://matplotlib.org/mpl_examples/mplot3d/wire3d_demo.py\n",
    "from mpl_toolkits.mplot3d import axes3d\n",
    "import matplotlib.pyplot as plt\n",
    "import numpy as np\n",
    "\n",
    "fig = plt.figure(figsize=(20,20))\n",
    "ax = fig.add_subplot(111, projection='3d')\n",
    "ax.plot_wireframe(a, b, c, rstride=1, cstride=1)\n",
    "\n",
    "plt.show()\n",
    "\n",
    "rotanimate(ax, angles,'rotate1.gif', delay=40, width=11, height = 8.5)"
   ]
  },
  {
   "cell_type": "code",
   "execution_count": null,
   "metadata": {
    "collapsed": false
   },
   "outputs": [],
   "source": [
    "%%bash\n",
    "rm out.mp4\n",
    "ffmpeg -framerate 1/0.5 -i tmprot_%03d.jpeg -c:v libx264 -vf fps=25 -pix_fmt yuv420p out.mp4"
   ]
  },
  {
   "cell_type": "code",
   "execution_count": null,
   "metadata": {
    "collapsed": false
   },
   "outputs": [],
   "source": [
    "# from mpl_toolkits.mplot3d import axes3d\n",
    "# import matplotlib.pyplot as plt\n",
    "# from matplotlib import cm\n",
    "\n",
    "# fig = plt.figure()\n",
    "# ax = fig.gca(projection='3d')\n",
    "# ax.plot_surface(a, b, c, alpha=0.3)\n",
    "# cset = ax.contourf(a, b, c, zdir='c', offset=0, cmap=cm.coolwarm)\n",
    "# cset = ax.contourf(a, b, c, zdir='b', offset=0, cmap=cm.coolwarm)\n",
    "# cset = ax.contourf(a, b, c, zdir='a', offset=0, cmap=cm.coolwarm)\n",
    "\n",
    "# ax.set_xlabel('a')\n",
    "# ax.set_xlim(0, 1)\n",
    "# ax.set_ylabel('b')\n",
    "# ax.set_ylim(0, 1)\n",
    "# ax.set_zlabel('c')\n",
    "# ax.set_zlim(0, 2)\n",
    "\n",
    "# plt.show()"
   ]
  },
  {
   "cell_type": "code",
   "execution_count": null,
   "metadata": {
    "collapsed": false
   },
   "outputs": [],
   "source": [
    "# # %load http://matplotlib.org/mpl_examples/mplot3d/contourf3d_demo2.py\n",
    "# \"\"\"\n",
    "# .. versionadded:: 1.1.0\n",
    "#    This demo depends on new features added to contourf3d.\n",
    "# \"\"\"\n",
    "\n",
    "# from mpl_toolkits.mplot3d import axes3d\n",
    "# import matplotlib.pyplot as plt\n",
    "# from matplotlib import cm\n",
    "\n",
    "# fig = plt.figure()\n",
    "# ax = fig.gca(projection='3d')\n",
    "# X, Y, Z = axes3d.get_test_data(0.05)\n",
    "# ax.plot_surface(X, Y, Z, rstride=8, cstride=8, alpha=0.3)\n",
    "# cset = ax.contourf(X, Y, Z, zdir='z', offset=-100, cmap=cm.coolwarm)\n",
    "# cset = ax.contourf(X, Y, Z, zdir='x', offset=-40, cmap=cm.coolwarm)\n",
    "# cset = ax.contourf(X, Y, Z, zdir='y', offset=40, cmap=cm.coolwarm)\n",
    "\n",
    "# ax.set_xlabel('X')\n",
    "# ax.set_xlim(-40, 40)\n",
    "# ax.set_ylabel('Y')\n",
    "# ax.set_ylim(-40, 40)\n",
    "# ax.set_zlabel('Z')\n",
    "# ax.set_zlim(-100, 100)\n",
    "\n",
    "# plt.show()"
   ]
  }
 ],
 "metadata": {
  "kernelspec": {
   "display_name": "Python 3",
   "language": "python",
   "name": "python3"
  },
  "language_info": {
   "codemirror_mode": {
    "name": "ipython",
    "version": 3
   },
   "file_extension": ".py",
   "mimetype": "text/x-python",
   "name": "python",
   "nbconvert_exporter": "python",
   "pygments_lexer": "ipython3",
   "version": "3.4.3"
  }
 },
 "nbformat": 4,
 "nbformat_minor": 0
}
